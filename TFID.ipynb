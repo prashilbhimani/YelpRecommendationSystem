{
 "cells": [
  {
   "cell_type": "code",
   "execution_count": 32,
   "metadata": {
    "collapsed": true
   },
   "outputs": [],
   "source": [
    "import json\n",
    "from nltk.stem.porter import *\n",
    "from nltk.stem.snowball import SnowballStemmer\n",
    "from nltk.tokenize import sent_tokenize, word_tokenize\n",
    "from autocorrect import spell\n",
    "from sklearn.feature_extraction.text import CountVectorizer,TfidfVectorizer\n",
    "import numpy as np"
   ]
  },
  {
   "cell_type": "code",
   "execution_count": 13,
   "metadata": {
    "collapsed": true
   },
   "outputs": [],
   "source": [
    "stemmer = SnowballStemmer(\"english\",ignore_stopwords=True)"
   ]
  },
  {
   "cell_type": "code",
   "execution_count": 7,
   "metadata": {
    "collapsed": true
   },
   "outputs": [],
   "source": [
    "business_review = []\n",
    "for b in open('Dataset/json_dataset/az_business_review.json', encoding=\"utf8\"):\n",
    "    business_review=json.loads(b)"
   ]
  },
  {
   "cell_type": "code",
   "execution_count": 47,
   "metadata": {},
   "outputs": [
    {
     "name": "stdout",
     "output_type": "stream",
     "text": [
      "['zone', 'work', 'handiwork', 'great', 'good', 'girl', 'forward', 'face', 'event', 'espec', 'difficult', 'did', 'cours', 'comfort', 'client', 'cheese', 'chang', 'care', 'buyer', 'busy', 'bear', 'attend', 'ask', 'arizona', 'area', 'aneth', 'altho', 'agent', 'agaz', 'actual', 'achieve', 'happy', 'heard', 'honest', 'phoenix', 'valentin', 'trumatch', 'truly', 'time', 'single', 'semi', 'sell', 'search', 'scottsdale', 'return', 'result', 'profession', 'phone', 'people', 'know', 'passion', 'new', 'meet', 'matchmark', 'manner', 'lovemba', 'love', 'look', 'long', 'live', 'life', 'leslie', 'lesli', 'abl']\n",
      "['yeah', 'help', 'hard', 'halfway', 'half', 'guy', 'grubhub', 'great', 'good', 'gone', 'goe', 'generous', 'game', 'future', 'friend', 'fresh', 'foot', 'floppy', 'floor', 'flavor', 'favorite', 'fast', 'far', 'familiar', 'fair', 'expect', 'exit', 'exhibit', 'effect', 'eaten', 'eat', 'having', 'hero', 'love', 'higher', 'long', 'local', 'll', 'line', 'limit', 'like', 'length', 'leave', 'large', 'laid', 'kinda', 'kid', 'just', 'john', 'job', 'jj', 'jimmy', 'iron', 'inured', 'inside', 'indoor', 'impress', 'immigr', 'immacul', 'hungry', 'huh', 'huge', 'howel', 'hoboken', 'east', 'dust', 'downside', 'doubt', 'brought', 'bright', 'bread', 'brand', 'boy', 'bought', 'boss', 'blow', 'blimp', 'bland', 'bite', 'bit', 'better', 'best', 'believe', 'beat', 'base', 'bake', 'bacon', 'awesome', 'attitude', 'aspect', 'art', 'area', 'andor', 'alway', 'ahead', 'ago', 'advertise', 'build', 'busy', 'buy', 'competitor', 'door', 'did', 'deliver', 'deli', 'decent', 'deal', 'day', 'cut', 'custom', 'crunch', 'crave', 'convert', 'condiment', 'cometh', 'ca', 'come', 'com', 'cold', 'club', 'clean', 'chuckle', 'chit', 'chew', 'cheeks', 'check', 'cheap', 'center', 'ceil', 'lot', 'lunch', 'wrap', 'super', 'subway', 'subscribe', 'sub', 'stuff', 'store', 'stop', 'start', 'speak', 'sorry', 'sooner', 'soggy', 'soft', 'smiley', 'smile', 'slim', 'slight', 'slicer', 'slice', 'skimp', 'similar', 'sign', 'shop', 'ship', 'shape', 'shabby', 'service', 'select', 'seen', 'seat', 'suggest', 'sure', 'magic', 'surprise', 'work', 'window', 'wholefood', 'weird', 'way', 'water', 'warm', 'want', 'wait', 'vinegar', 'vibe', 'value', 'use', 'unlike', 'unknown', 'unkempt', 'unfortune', 'ultimo', 'turnoff', 'tuna', 'tri', 'today', 'time', 'thing', 'th', 'tend', 'tastebud', 'taste', 'swing', 'say', 'sandwich', 'salami', 'sac', 'outside', 'origin', 'oregano', 'order', 'older', 'oh', 'offic', 'offer', 'occasion', 'nyc', 'nj', 'nice', 'new', 'near', 'mustard', 'million', 'menu', 'meld', 'meet', 'mediocur', 'mediocre', 'meat', 'meal', 'mayo', 'matter', 'mani', 'manag', 'maker', 'make', 'overdog', 'owner', 'parmesan', 'prosciuttini', 'run', 'rocks', 'right', 'require', 'request', 'repeat', 'reggi', 'recommend', 'really', 'real', 'quick', 'quality', 'provolone', 'proceed', 'past', 'price', 'pretty', 'prep', 'point', 'pm', 'plenty', 'pleas', 'place', 'pick', 'perfect', 'pepperoni', 'peppercorn', 'people', 'actual']\n",
      "['yrs', 'greater', 'final', 'fit', 'flame', 'fm', 'folk', 'follow', 'fortune', 'frequent', 'fridge', 'friend', 'friendlier', 'fun', 'gam', 'game', 'giant', 'gift', 'given', 'glass', 'god', 'goe', 'good', 'got', 'grab', 'festive', 'felt', 'feel', 'excel', 'emili', 'employe', 'end', 'engage', 'enjoy', 'ensue', 'enthusiast', 'equal', 'event', 'example', 'expect', 'favorite', 'experience', 'expert', 'extent', 'extreme', 'face', 'factor', 'family', 'fancy', 'fantast', 'far', 'great', 'greet', 'yelp', 'guarantee', 'inclusa', 'individu', 'joe', 'joseph', 'jump', 'just', 'kicking', 'kill', 'kind', 'knew', 'know', 'knowledge', 'known', 'lack', 'laid', 'large', 'later', 'let', 'level', 'light', 'like', 'list', 'little', 'idea', 'humidor', 'huge', 'head', 'guest', 'guy', 'habit', 'hand', 'hang', 'hangout', 'happen', 'happy', 'hate', 'having', 'help', 'houston', 'high', 'history', 'hit', 'home', 'hook', 'hope', 'host', 'hot', 'hour', 'house', 'els', 'eat', 'earn', 'drive', 'bad', 'base', 'basic', 'baxter', 'baxterscigar', 'believe', 'benefit', 'besit', 'best', 'better', 'beverage', 'big', 'biggest', 'biltmore', 'bistro', 'bit', 'blue', 'box', 'boyfriend', 'brand', 'break', 'build', 'bum', 'az', 'awesome', 'away', 'annoy', 'accessory', 'accommod', 'action', 'add', 'admit', 'advice', 'agaz', 'airport', 'alway', 'amen', 'answer', 'average', 'anyah', 'anyon', 'anytime', 'apart', 'appoint', 'area', 'ash', 'ask', 'atmosphere', 'attent', 'bunch', 'busy', 'buy', 'demography', 'country', 'couple', 'covers', 'creat', 'custom', 'cutter', 'damn', 'day', 'dc', 'definite', 'did', 'convent', 'differ', 'dimmed', 'discount', 'dispose', 'does', 'doing', 'door', 'doubt', 'downright', 'drink', 'cool', 'continue', 'bye', 'cigar', 'byob', 'ca', 'came', 'camelback', 'care', 'cat', 'celebratory', 'chair', 'check', 'christmas', 'class', 'confide', 'cliental', 'close', 'coffee', 'coli', 'collect', 'come', 'cometh', 'comfort', 'community', 'complimentary', 'live', 'll', 'local', 'send', 'stoai', 'stock', 'stop', 'store', 'stuff', 'style', 'sug', 'super', 'support', 'sure', 'sweet', 'ta', 'table', 'talk', 'teach', 'thank', 'thing', 'throw', 'till', 'time', 'timer', 'tobacco', 'told', 'stick', 'stellar', 'stay', 'snack', 'set', 'shit', 'shop', 'simple', 'size', 'small', 'smallish', 'smoke', 'smoker', 'smoking', 'soft', 'start', 'sold', 'soon', 'spent', 'sport', 'spot', 'spring', 'staff', 'stand', 'standard', 'star', 'ton', 'took', 'total', 'weekend', 'visit', 'visitor', 'walk', 'want', 'warm', 'water', 'way', 'weather', 'wed', 'week', 'welcome', 'veteran', 'went', 'wide', 'wife', 'wine', 'wo', 'word', 'worry', 'worth', 'write', 'year', 'vibe', 've', 'touch', 'type', 'town', 'train', 'travel', 'treat', 'tri', 'trip', 'truly', 'truth', 'tv', 'tx', 'typic', 'vari', 'unbent', 'unique', 'unpretenti', 'untimid', 'unuse', 'use', 'usual', 'vacant', 'valley', 'valuable', 'service', 'select', 'long', 'second', 'new', 'nice', 'nicki', 'night', 'nikki', 'north', 'novem', 'novice', 'occas', 'offer', 'ok', 'okay', 'oliva', 'open', 'overall', 'owner', 'palate', 'park', 'particular', 'pass', 'people', 'perfect', 'periscope', 'necessary', 'nearby', 'near', 'match', 'longer', 'look', 'lot', 'love', 'maddi', 'madi', 'main', 'make', 'manage', 'mani', 'matter', 'nation', 'meet', 'mention', 'met', 'military', 'minute', 'mix', 'moment', 'month', 'morn', 'motto', 'phoenix', 'pick', 'place', 'right', 'refuse', 'regardless', 'regret', 'regular', 'relax', 'remember', 'rep', 'rest', 'return', 'review', 'rob', 'recent', 'rock', 'room', 'said', 'saturday', 'satyr', 'say', 'schedule', 'scotch', 'scotti', 'screen', 'recommend', 'reason', 'play', 'privilege', 'plaza', 'pleasure', 'plethora', 'plus', 'point', 'possible', 'pre', 'present', 'pretty', 'price', 'problem', 'really', 'profession', 'profit', 'purchas', 'quality', 'question', 'quick', 'quit', 'rang', 'rare', 'rate', 'abl']\n",
      "['zone', 'environ', 'hard', 'happy', 'hand', 'gym', 'great', 'grate', 'gone', 'genuine', 'gentle', 'gave', 'garage', 'friend', 'fre', 'fore', 'focus', 'fix', 'fit', 'final', 'felt', 'feet', 'feel', 'far', 'fantast', 'family', 'fad', 'facial', 'experts', 'having', 'heal', 'health', 'kate', 'left', 'leave', 'learn', 'latest', 'labrum', 'known', 'knowledge', 'know', 'knead', 'kink', 'kind', 'kayla', 'just', 'healthier', 'job', 'issue', 'intent', 'inside', 'individu', 'improv', 'husband', 'hurt', 'howel', 'hot', 'high', 'help', 'expert', 'enter', 'light', 'ensue', 'canal', 'came', 'ca', 'buck', 'bodi', 'best', 'began', 'beauti', 'awhile', 'attent', 'ask', 'art', 'area', 'appreci', 'appoint', 'andrew', 'alway', 'alleve', 'air', 'ago', 'agaz', 'afraid', 'aesthetician', 'advice', 'adjust', 'actual', 'acid', 'care', 'caregiv', 'chiropract', 'differ', 'end', 'els', 'educ', 'dry', 'drive', 'dr', 'dont', 'doing', 'does', 'doctor', 'dislock', 'discomfort', 'diet', 'chiropractor', 'desk', 'definite', 'current', 'cup', 'courteous', 'couple', 'cough', 'consult', 'concern', 'complete', 'comfort', 'come', 'life', 'like', 'yes', 'shoulder', 'time', 'thorough', 'thing', 'therapy', 'therapist', 'thank', 'terrify', 'tell', 'technique', 'tear', 'taken', 'surgery', 'suppos', 'sun', 'stress', 'state', 'staff', 'spend', 'special', 'spa', 'soy', 'sound', 'sooth', 'snowboard', 'slept', 'sleep', 'skip', 'today', 'took', 'tore', 'wait', 'year', 'wrong', 'worth', 'work', 'word', 'wonder', 'wide', 'welcome', 'wear', 'way', 'warm', 'walk', 'visit', 'towel', 'verso', 've', 'various', 'valley', 'usual', 'use', 'unnecessary', 'understaff', 'trust', 'treatment', 'treat', 'track', 'skin', 'shall', 'lisa', 'shala', 'pain', 'overall', 'outstand', 'offic', 'offer', 'notice', 'night', 'nice', 'new', 'needless', 'need', 'motion', 'moment', 'minute', 'mind', 'mile', 'method', 'met', 'member', 'massage', 'mani', 'make', 'love', 'lot', 'look', 'long', 'listen', 'passion', 'past', 'patient', 'repair', 'sever', 'session', 'service', 'sell', 'seen', 'say', 'save', 'rush', 'room', 'ringer', 'right', 'rib', 'recommend', 'person', 'recent', 'really', 'rang', 'radiant', 'quality', 'proved', 'profession', 'problem', 'price', 'posit', 'point', 'place', '100']\n"
     ]
    },
    {
     "name": "stdout",
     "output_type": "stream",
     "text": [
      "['year', 'frame', 'feel', 'feature', 'favorite', 'fantast', 'family', 'facial', 'eye', 'extreme', 'extent', 'expert', 'exam', 'end', 'els', 'dry', 'drive', 'felt', 'friend', 'doing', 'ga', 'jaguar', 'inured', 'insure', 'instant', 'inconveni', 'highlight', 'high', 'help', 'happy', 'great', 'got', 'good', 'glass', 'genuine', 'gabi', 'dr', 'does', 'worth', 'check', 'center', 'care', 'ca', 'bring', 'big', 'best', 'begin', 'bebe', 'battery', 'bad', 'appoint', 'alway', 'ago', 'agaz', 'adjust', 'chain', 'chicago', 'doctor', 'choose', 'disappoint', 'differ', 'delight', 'deal', 'daughter', 'cutter', 'custom', 'couture', 'courteous', 'cook', 'complexion', 'comfort', 'come', 'chose', 'chore', 'job', 'juice', 'keith', 'tech', 'super', 'sunglass', 'stuff', 'staff', 'silhouette', 'service', 'select', 'schedule', 'say', 'rush', 'refresh', 'recommend', 'recheck', 'receive', 'reassure', 'sure', 'test', 'kind', 'theory', 'work', 'wo', 'wife', 'went', 'welcome', 'wait', 'vision', 've', 'usual', 'use', 'unrip', 'typic', 'took', 'time', 'thorough', 'really', 'random', 'rachel', 'quit', 'min', 'michael', 'member', 'manage', 'make', 'love', 'longer', 'live', 'line', 'like', 'laid', 'kor', 'knowledge', 'kneipe', 'knack', 'need', 'neighborhood', 'new', 'person', 'question', 'profession', 'private', 'pretty', 'place', 'pick', 'period', 'nice', 'patient', 'past', 'page', 'ok', 'offic', 'nike', 'absolute']\n",
      "['young', 'given', 'deep', 'did', 'display', 'does', 'entrepreneurs', 'expert', 'fall', 'far', 'final', 'focus', 'friend', 'good', 'just', 'got', 'great', 'grow', 'guy', 'hair', 'haircut', 'hand', 'happy', 'high', 'hire', 'home', 'dan', 'cut', 'custom', 'curteous', 'agaz', 'alway', 'anyon', 'area', 'arizona', 'atmosphere', 'awesome', 'bad', 'barber', 'barbershop', 'believe', 'besit', 'best', 'better', 'bud', 'ca', 'chair', 'clean', 'cliental', 'come', 'constant', 'craft', 'crisp', 'impose', 'long', 'year', 'switch', 'saw', 'say', 'scottsdale', 'seen', 'sergio', 'service', 'shop', 'social', 'solid', 'sq', 'strong', 'technique', 'look', 'told', 'treat', 'utmost', 've', 'visit', 'wait', 'want', 'way', 'work', 'worst', 'worth', 'road', 'right', 'review', 'respect', 'love', 'main', 'maintain', 'make', 'men', 'mind', 'neck', 'nice', 'obvious', 'old', 'owner', 'passion', 'place', 'pleasant', 'pride', 'pro', 'profession', 'quality', 'quick', 'real', 'receive', 'recommend', 'regret', 'accur']\n"
     ]
    }
   ],
   "source": [
    "j=0\n",
    "for business_id in business_review.keys():\n",
    "    new_reviews=[]\n",
    "    for r in business_review[business_id]:\n",
    "        print(r)\n",
    "        words = word_tokenize(r)\n",
    "        for w in words:\n",
    "            new_reviews.append(spell(stemmer.stem(w)))\n",
    "    new_reviews=' '.join(new_reviews)\n",
    "    t=TfidfVectorizer( lowercase=True, analyzer='word', ngram_range=(1, ), use_idf=True, smooth_idf=True, stop_words='english')\n",
    "    t.fit_transform([r])\n",
    "    indices = np.argsort(t.idf_)[::-1]\n",
    "    features = t.get_feature_names()\n",
    "    top_n = 10\n",
    "    top_features = [features[i] for i in indices[:top_n]]\n",
    "    print (top_features)\n",
    "    j=j+1\n",
    "    if j>5:\n",
    "        break"
   ]
  },
  {
   "cell_type": "code",
   "execution_count": null,
   "metadata": {
    "collapsed": true
   },
   "outputs": [],
   "source": []
  }
 ],
 "metadata": {
  "kernelspec": {
   "display_name": "Python 3",
   "language": "python",
   "name": "python3"
  },
  "language_info": {
   "codemirror_mode": {
    "name": "ipython",
    "version": 3
   },
   "file_extension": ".py",
   "mimetype": "text/x-python",
   "name": "python",
   "nbconvert_exporter": "python",
   "pygments_lexer": "ipython3",
   "version": "3.6.1"
  }
 },
 "nbformat": 4,
 "nbformat_minor": 2
}
