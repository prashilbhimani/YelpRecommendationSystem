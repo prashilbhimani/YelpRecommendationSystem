{
 "cells": [
  {
   "cell_type": "code",
   "execution_count": 1,
   "metadata": {
    "collapsed": true
   },
   "outputs": [],
   "source": [
    "import json"
   ]
  },
  {
   "cell_type": "code",
   "execution_count": 2,
   "metadata": {
    "collapsed": true
   },
   "outputs": [],
   "source": [
    "az_business = {}\n",
    "for b in open('Dataset/json_dataset/az_business.json', encoding=\"utf8\"):\n",
    "    json_object=json.loads(b)\n",
    "    az_business[json_object[\"business_id\"]]=''"
   ]
  },
  {
   "cell_type": "code",
   "execution_count": 3,
   "metadata": {
    "collapsed": true
   },
   "outputs": [],
   "source": [
    "az_user={}\n",
    "for r in open('Dataset/json_dataset/az_user.json', encoding=\"utf8\"):\n",
    "    json_object=json.loads(r)\n",
    "    az_user[json_object[\"user_id\"]]=''"
   ]
  },
  {
   "cell_type": "code",
   "execution_count": 4,
   "metadata": {
    "collapsed": true
   },
   "outputs": [],
   "source": [
    "tips=[]\n",
    "tipped_users=[]\n",
    "for t in open('Dataset/json_dataset/tip.json', encoding=\"utf8\"):\n",
    "    json_object=json.loads(t)\n",
    "    if json_object[\"business_id\"] in az_business:\n",
    "        if json_object[\"user_id\"] in az_user:\n",
    "            tips.append(json_object)\n",
    "        else:\n",
    "            tipped_users.append(json_object[\"user_id\"])\n",
    "            tips.append(json_object)"
   ]
  },
  {
   "cell_type": "code",
   "execution_count": 7,
   "metadata": {
    "collapsed": true
   },
   "outputs": [],
   "source": [
    "with open(\"Dataset/JSON_Dataset/az_tip.json\",\"w\") as outfile:\n",
    "    for r in tips:\n",
    "        json.dump(r,outfile)\n",
    "        outfile.write(\"\\n\")"
   ]
  },
  {
   "cell_type": "code",
   "execution_count": 8,
   "metadata": {
    "collapsed": true
   },
   "outputs": [],
   "source": [
    "new_users_dict={}\n",
    "for t in tipped_users:\n",
    "    new_users_dict[t]=''"
   ]
  },
  {
   "cell_type": "code",
   "execution_count": 10,
   "metadata": {
    "collapsed": true
   },
   "outputs": [],
   "source": [
    "users=[]\n",
    "for u in open('Dataset/json_dataset/user.json', encoding=\"utf8\"):\n",
    "    json_object=json.loads(u)\n",
    "    if json_object[\"user_id\"] in new_users_dict:\n",
    "        users.append(json_object)"
   ]
  },
  {
   "cell_type": "code",
   "execution_count": 12,
   "metadata": {
    "collapsed": true
   },
   "outputs": [],
   "source": [
    "with open(\"Dataset/JSON_Dataset/az_user.json\",\"a\") as outfile:\n",
    "    for r in users:\n",
    "        json.dump(r,outfile)\n",
    "        outfile.write(\"\\n\")"
   ]
  }
 ],
 "metadata": {
  "kernelspec": {
   "display_name": "Python 3",
   "language": "python",
   "name": "python3"
  },
  "language_info": {
   "codemirror_mode": {
    "name": "ipython",
    "version": 3
   },
   "file_extension": ".py",
   "mimetype": "text/x-python",
   "name": "python",
   "nbconvert_exporter": "python",
   "pygments_lexer": "ipython3",
   "version": "3.6.1"
  }
 },
 "nbformat": 4,
 "nbformat_minor": 2
}
