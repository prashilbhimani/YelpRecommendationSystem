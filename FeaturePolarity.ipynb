{
 "cells": [
  {
   "cell_type": "code",
   "execution_count": 4,
   "metadata": {
    "collapsed": true
   },
   "outputs": [],
   "source": [
    "import json\n",
    "import math\n",
    "from textblob import TextBlob"
   ]
  },
  {
   "cell_type": "code",
   "execution_count": 9,
   "metadata": {
    "collapsed": true
   },
   "outputs": [],
   "source": [
    "business_tags={}\n",
    "for b in open('Dataset/JSON_dataset/az_business_tags.json','r', encoding=\"utf8\"):\n",
    "    business_tags=json.loads(b)"
   ]
  },
  {
   "cell_type": "code",
   "execution_count": 6,
   "metadata": {},
   "outputs": [
    {
     "name": "stdout",
     "output_type": "stream",
     "text": [
      "18.638583973655322\n"
     ]
    }
   ],
   "source": [
    "sum_tags=0\n",
    "for b in business_tags.keys():\n",
    "    sum_tags=sum_tags+len(business_tags[b].keys())\n",
    "    #print(len(business_tags[b]))\n",
    "print(sum_tags/len(business_tags.keys()))"
   ]
  },
  {
   "cell_type": "code",
   "execution_count": 10,
   "metadata": {
    "collapsed": true
   },
   "outputs": [],
   "source": [
    "for b in business_tags.keys():\n",
    "    for k in business_tags[b].keys():\n",
    "        polarity=0\n",
    "        for x in business_tags[b][k]:\n",
    "            polarity=polarity+TextBlob(str(x)).sentiment.polarity\n",
    "        \n",
    "        polarity=polarity/len(business_tags[b][k])\n",
    "        business_tags[b][k]=polarity\n"
   ]
  },
  {
   "cell_type": "code",
   "execution_count": 11,
   "metadata": {},
   "outputs": [
    {
     "name": "stdout",
     "output_type": "stream",
     "text": [
      "{}\n",
      "{'bread': 0.8000000000000002}\n",
      "{'experience': 0.8000000000000002, 'selection': 0.7818181818181817, 'price': 0.7749999999999999, 'atmosphere': 0.8666666666666667, 'lounge': 0.8000000000000002}\n",
      "{'body': 1.0}\n",
      "{}\n",
      "{'barber': 0.85, 'haircut': 0.8, 'cut': 0.7666666666666666}\n",
      "{'place': 0.21666666666666667, 'management': -0.8}\n",
      "{'experience': 0.7666666666666666, 'customer': 0.8500000000000001, 'product': 0.8625, 'work': 0.8, 'grass': -0.5999999999999999, 'job': 0.9333333333333332}\n",
      "{}\n",
      "{'ling': 0.725}\n",
      "{}\n"
     ]
    }
   ],
   "source": [
    "j=0\n",
    "for b in business_tags.keys():\n",
    "    print(business_tags[b])\n",
    "    j=j+1\n",
    "    if j>10:\n",
    "        break;"
   ]
  },
  {
   "cell_type": "code",
   "execution_count": 12,
   "metadata": {
    "collapsed": true
   },
   "outputs": [],
   "source": [
    "for b in business_tags.keys():\n",
    "    temp=[]\n",
    "    for k in business_tags[b].keys():\n",
    "        if business_tags[b][k]>0:\n",
    "            temp.append(k)\n",
    "    business_tags[b]=temp"
   ]
  },
  {
   "cell_type": "code",
   "execution_count": 16,
   "metadata": {
    "scrolled": true
   },
   "outputs": [
    {
     "name": "stdout",
     "output_type": "stream",
     "text": [
      "['bread']\n",
      "['experience', 'selection', 'price', 'atmosphere', 'lounge']\n",
      "['body']\n",
      "['barber', 'haircut', 'cut']\n",
      "['place']\n",
      "['experience', 'customer', 'product', 'work', 'job']\n",
      "['ling']\n",
      "['quality', 'experience']\n",
      "['anasazi']\n",
      "['place']\n",
      "['pizza']\n",
      "['store', 'selection']\n",
      "['service', 'place', 'variety', 'portion']\n",
      "['atmosphere', 'food', 'service', 'place', 'hour', 'staff', 'music']\n",
      "['business', 'service', 'value', 'auto', 'work']\n",
      "['experience', 'service']\n",
      "['job']\n",
      "['thing', 'view', 'time', 'venue', 'place', 'theatre', 'way', 'act', 'job']\n",
      "['guy', 'place', 'fry', 'soda', 'food', 'service']\n",
      "['job']\n",
      "['product']\n",
      "['cake', 'service', 'thing', 'thought', 'customer', 'gigi', 'dense', 'counter', 'icing', 'idea', 'variety', 'day', 'salt']\n",
      "['thing']\n",
      "['length', 'shape', 'lady', 'massage']\n",
      "['service']\n",
      "['food', 'service', 'chip', 'everything', 'salsa', 'staff']\n",
      "['people', 'service']\n",
      "['staff']\n",
      "['park']\n",
      "['service', 'cream', 'quality', 'place', 'variety']\n",
      "['job']\n"
     ]
    }
   ],
   "source": [
    "j=0\n",
    "for b in business_tags.keys():\n",
    "    if len(business_tags[b])>0:\n",
    "        print(business_tags[b])\n",
    "        j=j+1\n",
    "        if j>30:\n",
    "            break;"
   ]
  },
  {
   "cell_type": "code",
   "execution_count": 17,
   "metadata": {
    "collapsed": true
   },
   "outputs": [],
   "source": [
    "with open(\"Dataset/JSON_Dataset/az_business_tags.json\",\"w\") as outfile:\n",
    "    json.dump(business_tags,outfile)\n",
    "    outfile.write(\"\\n\")"
   ]
  },
  {
   "cell_type": "code",
   "execution_count": null,
   "metadata": {
    "collapsed": true
   },
   "outputs": [],
   "source": []
  }
 ],
 "metadata": {
  "kernelspec": {
   "display_name": "Python 3",
   "language": "python",
   "name": "python3"
  },
  "language_info": {
   "codemirror_mode": {
    "name": "ipython",
    "version": 3
   },
   "file_extension": ".py",
   "mimetype": "text/x-python",
   "name": "python",
   "nbconvert_exporter": "python",
   "pygments_lexer": "ipython3",
   "version": "3.6.1"
  }
 },
 "nbformat": 4,
 "nbformat_minor": 2
}
