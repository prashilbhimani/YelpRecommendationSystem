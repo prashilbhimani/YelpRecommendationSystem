{
 "cells": [
  {
   "cell_type": "code",
   "execution_count": 1,
   "metadata": {
    "collapsed": true
   },
   "outputs": [],
   "source": [
    "import json"
   ]
  },
  {
   "cell_type": "code",
   "execution_count": 2,
   "metadata": {
    "collapsed": true
   },
   "outputs": [],
   "source": [
    "business_tags={}\n",
    "for b in open('Dataset/JSON_dataset/az_business_tags.json','r', encoding=\"utf8\"):\n",
    "    business_tags=json.loads(b)"
   ]
  },
  {
   "cell_type": "code",
   "execution_count": 3,
   "metadata": {},
   "outputs": [
    {
     "name": "stdout",
     "output_type": "stream",
     "text": [
      "47372\n"
     ]
    }
   ],
   "source": [
    "print(len(business_tags))"
   ]
  },
  {
   "cell_type": "code",
   "execution_count": 4,
   "metadata": {},
   "outputs": [
    {
     "name": "stdout",
     "output_type": "stream",
     "text": [
      "16.38748627881449\n",
      "418\n"
     ]
    }
   ],
   "source": [
    "sum_tags=0\n",
    "maxi=0\n",
    "for b in business_tags.keys():\n",
    "    sum_tags=sum_tags+len(business_tags[b])\n",
    "    if len(business_tags[b])>maxi:\n",
    "        maxi=len(business_tags[b])\n",
    "print(sum_tags/len(business_tags.keys()))\n",
    "print(maxi)"
   ]
  },
  {
   "cell_type": "code",
   "execution_count": 5,
   "metadata": {
    "collapsed": true
   },
   "outputs": [],
   "source": [
    "business=[]\n",
    "for b in open('Dataset/JSON_dataset/az_business.json','r', encoding=\"utf8\"):\n",
    "    business.append(json.loads(b))\n",
    "    \n",
    "    "
   ]
  },
  {
   "cell_type": "code",
   "execution_count": 6,
   "metadata": {
    "collapsed": true
   },
   "outputs": [],
   "source": [
    "for b in business:\n",
    "    if b[\"business_id\"] in business_tags:\n",
    "        for k in b[\"categories\"]:\n",
    "            business_tags[b[\"business_id\"]].append(k)"
   ]
  },
  {
   "cell_type": "code",
   "execution_count": 7,
   "metadata": {},
   "outputs": [
    {
     "name": "stdout",
     "output_type": "stream",
     "text": [
      "20.24408933547243\n",
      "422\n"
     ]
    }
   ],
   "source": [
    "sum_tags=0\n",
    "maxi=0\n",
    "for b in business_tags.keys():\n",
    "    sum_tags=sum_tags+len(business_tags[b])\n",
    "    if len(business_tags[b])>maxi:\n",
    "        maxi=len(business_tags[b])\n",
    "print(sum_tags/len(business_tags.keys()))\n",
    "print(maxi)"
   ]
  },
  {
   "cell_type": "code",
   "execution_count": 9,
   "metadata": {},
   "outputs": [
    {
     "name": "stdout",
     "output_type": "stream",
     "text": [
      "<class 'dict'>\n"
     ]
    }
   ],
   "source": [
    "print(type(business_tags))"
   ]
  },
  {
   "cell_type": "code",
   "execution_count": 10,
   "metadata": {
    "collapsed": true
   },
   "outputs": [],
   "source": [
    "with open(\"Dataset/JSON_Dataset/az_all_business_features.json\",\"w\") as outfile:\n",
    "    json.dump(business_tags,outfile)\n",
    "    outfile.write(\"\\n\")"
   ]
  },
  {
   "cell_type": "code",
   "execution_count": null,
   "metadata": {
    "collapsed": true
   },
   "outputs": [],
   "source": []
  }
 ],
 "metadata": {
  "kernelspec": {
   "display_name": "Python 3",
   "language": "python",
   "name": "python3"
  },
  "language_info": {
   "codemirror_mode": {
    "name": "ipython",
    "version": 3
   },
   "file_extension": ".py",
   "mimetype": "text/x-python",
   "name": "python",
   "nbconvert_exporter": "python",
   "pygments_lexer": "ipython3",
   "version": "3.6.1"
  }
 },
 "nbformat": 4,
 "nbformat_minor": 2
}
