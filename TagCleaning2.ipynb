{
 "cells": [
  {
   "cell_type": "code",
   "execution_count": 9,
   "metadata": {
    "collapsed": true
   },
   "outputs": [],
   "source": [
    "import json\n",
    "import math"
   ]
  },
  {
   "cell_type": "code",
   "execution_count": 12,
   "metadata": {
    "collapsed": true
   },
   "outputs": [],
   "source": [
    "business_tags={}\n",
    "for b in open('Dataset/JSON_dataset/az_business_tags.json','r', encoding=\"utf8\"):\n",
    "    business_tags=json.loads(b)"
   ]
  },
  {
   "cell_type": "code",
   "execution_count": 13,
   "metadata": {
    "collapsed": true
   },
   "outputs": [],
   "source": [
    "for b in business_tags.keys():\n",
    "    sum_tags=0\n",
    "    total=len(business_tags[b].keys())\n",
    "    for k in business_tags[b].keys():\n",
    "        if business_tags[b][k] is not None:\n",
    "            sum_tags=sum_tags+len(business_tags[b][k])\n",
    "    if total!=0:\n",
    "        avg=sum_tags/total\n",
    "        avg=math.floor(avg)\n",
    "    temp={}\n",
    "    for k in business_tags[b].keys():\n",
    "        if business_tags[b][k] is not None:\n",
    "            if len(business_tags[b][k])>=avg:\n",
    "                temp[k]=business_tags[b][k]\n",
    "    business_tags[b]=temp"
   ]
  },
  {
   "cell_type": "code",
   "execution_count": 14,
   "metadata": {},
   "outputs": [
    {
     "name": "stdout",
     "output_type": "stream",
     "text": [
      "18.638583973655322\n"
     ]
    }
   ],
   "source": [
    "sum_tags=0\n",
    "for b in business_tags.keys():\n",
    "    sum_tags=sum_tags+len(business_tags[b].keys())\n",
    "    #print(len(business_tags[b]))\n",
    "print(sum_tags/len(business_tags.keys()))"
   ]
  },
  {
   "cell_type": "code",
   "execution_count": 15,
   "metadata": {
    "collapsed": true
   },
   "outputs": [],
   "source": [
    "with open(\"Dataset/JSON_Dataset/az_business_tags.json\",\"w\") as outfile:\n",
    "    json.dump(business_tags,outfile)\n",
    "    outfile.write(\"\\n\")"
   ]
  },
  {
   "cell_type": "code",
   "execution_count": null,
   "metadata": {
    "collapsed": true
   },
   "outputs": [],
   "source": []
  }
 ],
 "metadata": {
  "kernelspec": {
   "display_name": "Python 3",
   "language": "python",
   "name": "python3"
  },
  "language_info": {
   "codemirror_mode": {
    "name": "ipython",
    "version": 3
   },
   "file_extension": ".py",
   "mimetype": "text/x-python",
   "name": "python",
   "nbconvert_exporter": "python",
   "pygments_lexer": "ipython3",
   "version": "3.6.1"
  }
 },
 "nbformat": 4,
 "nbformat_minor": 2
}
