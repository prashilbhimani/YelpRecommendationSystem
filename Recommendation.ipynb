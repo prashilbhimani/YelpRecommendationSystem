{
 "cells": [
  {
   "cell_type": "code",
   "execution_count": 1,
   "metadata": {
    "collapsed": true
   },
   "outputs": [],
   "source": [
    "import json\n",
    "import heapq"
   ]
  },
  {
   "cell_type": "code",
   "execution_count": 2,
   "metadata": {
    "collapsed": true
   },
   "outputs": [],
   "source": [
    "business_tags = {}\n",
    "for b in open('Dataset/json_dataset/az_all_business_features.json', encoding=\"utf8\"):\n",
    "    business_tags=json.loads(b)"
   ]
  },
  {
   "cell_type": "code",
   "execution_count": 3,
   "metadata": {
    "collapsed": true
   },
   "outputs": [],
   "source": [
    "user_tags = {}\n",
    "for b in open('Dataset/json_dataset/az_all_user_features.json', encoding=\"utf8\"):\n",
    "    user_tags=json.loads(b)"
   ]
  },
  {
   "cell_type": "code",
   "execution_count": null,
   "metadata": {
    "collapsed": true
   },
   "outputs": [],
   "source": [
    "user_postal = {}\n",
    "for b in open('Dataset/json_dataset/user_postal.json', encoding=\"utf8\"):\n",
    "    user_postal=json.loads(b)"
   ]
  },
  {
   "cell_type": "code",
   "execution_count": null,
   "metadata": {
    "collapsed": true
   },
   "outputs": [],
   "source": [
    "business_postal = {}\n",
    "for b in open('Dataset/json_dataset/postal_business.json', encoding=\"utf8\"):\n",
    "    business_postal=json.loads(b)"
   ]
  },
  {
   "cell_type": "code",
   "execution_count": null,
   "metadata": {
    "collapsed": true
   },
   "outputs": [],
   "source": [
    "user_business = {}\n",
    "for b in open('Dataset/json_dataset/user_business_gt3.json', encoding=\"utf8\"):\n",
    "    user_business=json.loads(b)"
   ]
  },
  {
   "cell_type": "code",
   "execution_count": 9,
   "metadata": {},
   "outputs": [
    {
     "name": "stdout",
     "output_type": "stream",
     "text": [
      "0\n",
      "1\n",
      "2\n",
      "3\n",
      "4\n",
      "5\n",
      "6\n",
      "7\n",
      "8\n"
     ]
    }
   ],
   "source": [
    "j=0\n",
    "user_recommendation={}\n",
    "user_keys=list(user_postal.keys())\n",
    "for u in user_keys[0:1000]:\n",
    "    user_recommendation[u]=[]\n",
    "    for up in user_postal[u]:\n",
    "        for b in business_postal[up]:\n",
    "            if b not in user_business[u] and b in business_tags:\n",
    "                try:\n",
    "                    b_tags=set(business_tags[b])\n",
    "                    u_tags=set(user_tags[u])\n",
    "                    c_tags=u_tags.intersection(b_tags)\n",
    "                    if 0.7*len(b_tags)<len(c_tags):\n",
    "                        heapq.heappush(user_recommendation[u], (len(c_tags),b))\n",
    "                except:\n",
    "                    pass\n",
    "    user_recommendation[u]=user_recommendation[u][:100]\n",
    "    print(j)\n",
    "    j=j+1"
   ]
  },
  {
   "cell_type": "code",
   "execution_count": null,
   "metadata": {
    "collapsed": true
   },
   "outputs": [],
   "source": [
    "with open(\"Dataset/JSON_Dataset/az_recommendation.json\",\"a\") as outfile:\n",
    "    json.dump(user_recommendation,outfile)\n",
    "    outfile.write(\"\\n\")"
   ]
  }
 ],
 "metadata": {
  "kernelspec": {
   "display_name": "Python 3",
   "language": "python",
   "name": "python3"
  },
  "language_info": {
   "codemirror_mode": {
    "name": "ipython",
    "version": 3
   },
   "file_extension": ".py",
   "mimetype": "text/x-python",
   "name": "python",
   "nbconvert_exporter": "python",
   "pygments_lexer": "ipython3",
   "version": "3.6.1"
  }
 },
 "nbformat": 4,
 "nbformat_minor": 2
}
