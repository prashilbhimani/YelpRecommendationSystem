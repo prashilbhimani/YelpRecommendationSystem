{
 "cells": [
  {
   "cell_type": "code",
   "execution_count": 13,
   "metadata": {
    "collapsed": true
   },
   "outputs": [],
   "source": [
    "import json"
   ]
  },
  {
   "cell_type": "code",
   "execution_count": 14,
   "metadata": {
    "collapsed": true
   },
   "outputs": [],
   "source": [
    "business_tags={}\n",
    "for b in open('Dataset/JSON_dataset/az_all_business_features.json','r', encoding=\"utf8\"):\n",
    "    business_tags=json.loads(b)"
   ]
  },
  {
   "cell_type": "code",
   "execution_count": 15,
   "metadata": {
    "collapsed": true
   },
   "outputs": [],
   "source": [
    "user_business={}\n",
    "for b in open('Dataset/JSON_dataset/user_business_gt3.json','r', encoding=\"utf8\"):\n",
    "    user_business=json.loads(b)"
   ]
  },
  {
   "cell_type": "code",
   "execution_count": 16,
   "metadata": {},
   "outputs": [
    {
     "data": {
      "text/plain": [
       "364238"
      ]
     },
     "execution_count": 16,
     "metadata": {},
     "output_type": "execute_result"
    }
   ],
   "source": [
    "len(user_business)"
   ]
  },
  {
   "cell_type": "code",
   "execution_count": 17,
   "metadata": {},
   "outputs": [
    {
     "data": {
      "text/plain": [
       "47372"
      ]
     },
     "execution_count": 17,
     "metadata": {},
     "output_type": "execute_result"
    }
   ],
   "source": [
    "len(business_tags)"
   ]
  },
  {
   "cell_type": "code",
   "execution_count": 18,
   "metadata": {},
   "outputs": [
    {
     "name": "stdout",
     "output_type": "stream",
     "text": [
      "20.24408933547243\n",
      "422\n"
     ]
    }
   ],
   "source": [
    "sum_tags=0\n",
    "maxi=0\n",
    "for b in business_tags.keys():\n",
    "    sum_tags=sum_tags+len(business_tags[b])\n",
    "    if len(business_tags[b])>maxi:\n",
    "        maxi=len(business_tags[b])\n",
    "print(sum_tags/len(business_tags.keys()))\n",
    "print(maxi)"
   ]
  },
  {
   "cell_type": "code",
   "execution_count": 23,
   "metadata": {},
   "outputs": [],
   "source": [
    "user_features={}\n",
    "for u in user_business.keys():\n",
    "    temp=[]\n",
    "    for b in user_business[u]:\n",
    "        if b in business_tags:\n",
    "            for k in business_tags[b]:\n",
    "                temp.append(k)\n",
    "    user_features[u]=temp"
   ]
  },
  {
   "cell_type": "code",
   "execution_count": 24,
   "metadata": {},
   "outputs": [
    {
     "name": "stdout",
     "output_type": "stream",
     "text": [
      "364238\n"
     ]
    }
   ],
   "source": [
    "print(len(user_features))"
   ]
  },
  {
   "cell_type": "code",
   "execution_count": 25,
   "metadata": {
    "collapsed": true
   },
   "outputs": [],
   "source": [
    "with open(\"Dataset/JSON_Dataset/az_all_user_features.json\",\"w\") as outfile:\n",
    "    json.dump(user_features,outfile)\n",
    "    outfile.write(\"\\n\")"
   ]
  },
  {
   "cell_type": "code",
   "execution_count": 26,
   "metadata": {},
   "outputs": [
    {
     "name": "stdout",
     "output_type": "stream",
     "text": [
      "167.82628116780785\n",
      "71900\n"
     ]
    }
   ],
   "source": [
    "sum_tags=0\n",
    "maxi=0\n",
    "for b in user_features.keys():\n",
    "    sum_tags=sum_tags+len(user_features[b])\n",
    "    if len(user_features[b])>maxi:\n",
    "        maxi=len(user_features[b])\n",
    "print(sum_tags/len(user_features.keys()))\n",
    "print(maxi)"
   ]
  },
  {
   "cell_type": "code",
   "execution_count": null,
   "metadata": {
    "collapsed": true
   },
   "outputs": [],
   "source": []
  }
 ],
 "metadata": {
  "kernelspec": {
   "display_name": "Python 3",
   "language": "python",
   "name": "python3"
  },
  "language_info": {
   "codemirror_mode": {
    "name": "ipython",
    "version": 3
   },
   "file_extension": ".py",
   "mimetype": "text/x-python",
   "name": "python",
   "nbconvert_exporter": "python",
   "pygments_lexer": "ipython3",
   "version": "3.6.1"
  }
 },
 "nbformat": 4,
 "nbformat_minor": 2
}
