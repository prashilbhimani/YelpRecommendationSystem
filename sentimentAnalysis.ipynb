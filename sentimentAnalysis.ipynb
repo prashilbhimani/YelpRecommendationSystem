{
 "cells": [
  {
   "cell_type": "code",
   "execution_count": 1,
   "metadata": {
    "collapsed": true
   },
   "outputs": [],
   "source": [
    "from textblob import TextBlob\n",
    "from textblob.np_extractors import ConllExtractor\n",
    "from textblob.sentiments import NaiveBayesAnalyzer"
   ]
  },
  {
   "cell_type": "code",
   "execution_count": 2,
   "metadata": {},
   "outputs": [
    {
     "data": {
      "text/plain": [
       "WordList(['food'])"
      ]
     },
     "execution_count": 2,
     "metadata": {},
     "output_type": "execute_result"
    }
   ],
   "source": [
    "extractor = ConllExtractor()\n",
    "blob = TextBlob(\"Python is a high-level programming language.\", np_extractor=extractor)\n",
    "blob.noun_phrases\n",
    "blob = TextBlob(\"Food was really good and serving was bad\", np_extractor=extractor)\n",
    "blob.noun_phrases"
   ]
  },
  {
   "cell_type": "code",
   "execution_count": 8,
   "metadata": {},
   "outputs": [
    {
     "name": "stdout",
     "output_type": "stream",
     "text": [
      "['Food', 'was']\n",
      "['was', 'really']\n",
      "was really  Positive 0.2\n",
      "['really', 'good']\n",
      "really good  Positive 0.7\n",
      "['good', 'and']\n",
      "good and  Positive 0.7\n",
      "['and', 'serving']\n",
      "['serving', 'was']\n",
      "['was', 'bad']\n",
      "was bad  Negative -0.6999999999999998\n"
     ]
    }
   ],
   "source": [
    "for i in blob.ngrams(n=2):\n",
    "    print(i)\n",
    "    \n",
    "    str_text=\"\"\n",
    "    for j in i:\n",
    "        str_text=str_text+j\n",
    "        str_text+=\" \"\n",
    "    text=TextBlob(str_text)\n",
    "    \n",
    "    if text.sentiment.polarity>0 :\n",
    "        print(text+\" Positive \"+ str(text.sentiment.polarity))\n",
    "    elif(text.sentiment.polarity<0):\n",
    "        print(text+\" Negative \"+ str(text.sentiment.polarity))\n"
   ]
  },
  {
   "cell_type": "code",
   "execution_count": 5,
   "metadata": {},
   "outputs": [
    {
     "name": "stdout",
     "output_type": "stream",
     "text": [
      "*********************************************\n",
      "Food was really \n",
      "was really good \n",
      "really good and \n",
      "good and serving \n",
      "*********************************************\n",
      "Food was really good \n",
      "was really good and \n",
      "really good and serving \n",
      "good and serving was \n"
     ]
    }
   ],
   "source": [
    "print (\"*********************************************\") \n",
    "for i in blob.ngrams(n=3):\n",
    "    str_text=\"\"\n",
    "    for j in i:\n",
    "        str_text=str_text+j\n",
    "        str_text+=\" \"\n",
    "    text=TextBlob(str_text)\n",
    "    if(text.sentiment.polarity>0):\n",
    "        #print (text,\"sentiment:\",text.sentiment.polarity,\"nouns:\",text.noun_phrases)\n",
    "        print(text)\n",
    "print (\"*********************************************\")       \n",
    "for i in blob.ngrams(n=4):\n",
    "    str_text=\"\"\n",
    "    for j in i:\n",
    "        str_text=str_text+j\n",
    "        str_text+=\" \"\n",
    "    text=TextBlob(str_text)\n",
    "    if(text.sentiment.polarity>0):\n",
    "        #print (text,\"sentiment:\",text.sentiment.polarity,\"nouns:\",text.noun_phrases)\n",
    "        print(text)"
   ]
  },
  {
   "cell_type": "code",
   "execution_count": null,
   "metadata": {
    "collapsed": true
   },
   "outputs": [],
   "source": []
  }
 ],
 "metadata": {
  "kernelspec": {
   "display_name": "Python 3",
   "language": "python",
   "name": "python3"
  },
  "language_info": {
   "codemirror_mode": {
    "name": "ipython",
    "version": 3
   },
   "file_extension": ".py",
   "mimetype": "text/x-python",
   "name": "python",
   "nbconvert_exporter": "python",
   "pygments_lexer": "ipython3",
   "version": "3.6.1"
  }
 },
 "nbformat": 4,
 "nbformat_minor": 2
}
