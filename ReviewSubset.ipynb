{
 "cells": [
  {
   "cell_type": "code",
   "execution_count": 1,
   "metadata": {
    "collapsed": true
   },
   "outputs": [],
   "source": [
    "import json"
   ]
  },
  {
   "cell_type": "code",
   "execution_count": 2,
   "metadata": {
    "collapsed": true
   },
   "outputs": [],
   "source": [
    "az_business = {}\n",
    "for b in open('Dataset/json_dataset/az_business.json', encoding=\"utf8\"):\n",
    "    json_object=json.loads(b)\n",
    "    az_business[json_object[\"business_id\"]]=[]"
   ]
  },
  {
   "cell_type": "code",
   "execution_count": 4,
   "metadata": {
    "collapsed": true
   },
   "outputs": [],
   "source": [
    "reviews=[]\n",
    "for r in open('Dataset/json_dataset/review.json', encoding=\"utf8\"):\n",
    "    json_object=json.loads(r)\n",
    "    reviews.append(json_object)"
   ]
  },
  {
   "cell_type": "code",
   "execution_count": 6,
   "metadata": {
    "collapsed": true
   },
   "outputs": [],
   "source": [
    "review_dict={}\n",
    "az_business_review=[]\n",
    "for r in reviews:\n",
    "    if r[\"business_id\"] in az_business:\n",
    "        az_business[r[\"business_id\"]].append(r[\"review_id\"])\n",
    "        az_business_review.append(r)\n",
    "reviews=[]"
   ]
  },
  {
   "cell_type": "code",
   "execution_count": 7,
   "metadata": {
    "collapsed": true
   },
   "outputs": [],
   "source": [
    "with open(\"Dataset/JSON_Dataset/az_review.json\",\"w\") as outfile:\n",
    "    for r in az_business_review:\n",
    "        json.dump(r,outfile)\n",
    "        outfile.write(\"\\n\")"
   ]
  }
 ],
 "metadata": {
  "kernelspec": {
   "display_name": "Python 3",
   "language": "python",
   "name": "python3"
  },
  "language_info": {
   "codemirror_mode": {
    "name": "ipython",
    "version": 3
   },
   "file_extension": ".py",
   "mimetype": "text/x-python",
   "name": "python",
   "nbconvert_exporter": "python",
   "pygments_lexer": "ipython3",
   "version": "3.6.1"
  }
 },
 "nbformat": 4,
 "nbformat_minor": 2
}
