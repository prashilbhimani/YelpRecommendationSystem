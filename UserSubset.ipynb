{
 "cells": [
  {
   "cell_type": "code",
   "execution_count": 3,
   "metadata": {
    "collapsed": true
   },
   "outputs": [],
   "source": [
    "import json"
   ]
  },
  {
   "cell_type": "code",
   "execution_count": 5,
   "metadata": {},
   "outputs": [],
   "source": [
    "az_reviews_dict={}\n",
    "for r in open('Dataset/json_dataset/az_review.json', encoding=\"utf8\"):\n",
    "    json_object=json.loads(r)\n",
    "    if json_object[\"user_id\"] in az_reviews_dict:\n",
    "        az_reviews_dict[json_object[\"user_id\"]].append(json_object[\"review_id\"])\n",
    "    else:\n",
    "        az_reviews_dict[json_object[\"user_id\"]]=[json_object[\"review_id\"]]"
   ]
  },
  {
   "cell_type": "code",
   "execution_count": 7,
   "metadata": {
    "collapsed": true
   },
   "outputs": [],
   "source": [
    "users=[]\n",
    "for u in open('Dataset/json_dataset/user.json', encoding=\"utf8\"):\n",
    "    json_object=json.loads(u)\n",
    "    if json_object[\"user_id\"] in az_reviews_dict:\n",
    "        users.append(json_object)"
   ]
  },
  {
   "cell_type": "code",
   "execution_count": 9,
   "metadata": {
    "collapsed": true
   },
   "outputs": [],
   "source": [
    "with open(\"Dataset/json_dataset/az_user.json\",\"w\") as outfile:\n",
    "    for u in users:\n",
    "        json.dump(u,outfile)\n",
    "        outfile.write(\"\\n\")"
   ]
  }
 ],
 "metadata": {
  "kernelspec": {
   "display_name": "Python 3",
   "language": "python",
   "name": "python3"
  },
  "language_info": {
   "codemirror_mode": {
    "name": "ipython",
    "version": 3
   },
   "file_extension": ".py",
   "mimetype": "text/x-python",
   "name": "python",
   "nbconvert_exporter": "python",
   "pygments_lexer": "ipython3",
   "version": "3.6.1"
  }
 },
 "nbformat": 4,
 "nbformat_minor": 2
}
